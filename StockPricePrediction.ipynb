{
  "nbformat": 4,
  "nbformat_minor": 0,
  "metadata": {
    "colab": {
      "name": "keni_week11.ipynb",
      "provenance": [],
      "collapsed_sections": []
    },
    "kernelspec": {
      "name": "python3",
      "display_name": "Python 3"
    }
  },
  "cells": [
    {
      "cell_type": "markdown",
      "metadata": {
        "id": "uLJhpS7ldCvK"
      },
      "source": [
        "# **SECTION 1: SUMMARY OF THE PROJECT**\n"
      ]
    },
    {
      "cell_type": "markdown",
      "metadata": {
        "id": "ZngGR55rEtDr"
      },
      "source": [
        "Doing analysis on stock price prediction would help me to know the future rates based on the previous stock price available. This would give me an idea whether to buy or not that particular share. The interesting company  that came into my mind is AT&T as the prediction for that company is not that easy. \n",
        "\n",
        "The Machine Learning algorithm that I used is LSTM (Long Short Term Memory). With the help of LSTM, I was able to identify whether the stock price will increase or decrease. It predicts one day ahead value based on the recent 60 days. This is a different prediction scheme totally wherein we have to predict the entire validation data points without knowing any information in the validation data. \n",
        "\n",
        "The defined success criteria is that when I apply the following prediction scheme I would get a better idea of the analysis that I would be getting."
      ]
    },
    {
      "cell_type": "markdown",
      "metadata": {
        "id": "uEE5nv16dJjI"
      },
      "source": [
        "# **SECTION 2: SHOWING THE CODE AND ARCHITECTURE OF ML**"
      ]
    },
    {
      "cell_type": "markdown",
      "metadata": {
        "id": "W5-x7Dz1Jcw_"
      },
      "source": [
        "Firstly I have done plotting of Closing Price History which gave me an overview of the dataset available. Then the data is split into training data set and Test data set. A certain amount of data is fetched only for training purpose. For Testing purpose different data is fetched. More LSTM layers were added in order to improve the accuracy of the model. Later on, the model is compiled and trained. The model is compiled using Root Mean Squared Error (RMSE) for which the predictions were perfect. After that step, the model is trained and tested using testing data. For this purpose, complete new dataset is fetched. Preprocessing steps for test data is similar as the training data. The LSTM model is tested on the new dataset. I have added a plot of the predicted stock prices with original stock prices. The code for this explanation is included in Section 3."
      ]
    },
    {
      "cell_type": "markdown",
      "metadata": {
        "id": "4rz2ck7bdOa2"
      },
      "source": [
        "# **SECTION 3: SHOWING THE OUTPUT OF THE MODEL USING DATASET**"
      ]
    },
    {
      "cell_type": "markdown",
      "metadata": {
        "id": "WIYYNWHpdUn0"
      },
      "source": [
        "**Part 1: Importing the libaries and Loading the Data set**"
      ]
    },
    {
      "cell_type": "code",
      "metadata": {
        "id": "TsE0SJQha2oD"
      },
      "source": [
        "import math\n",
        "import pandas_datareader as web\n",
        "import numpy as np\n",
        "import pandas as pd\n",
        "from sklearn.preprocessing import MinMaxScaler\n",
        "from keras.models import Sequential\n",
        "from keras.layers import Dense, LSTM\n",
        "import matplotlib.pyplot as plt\n",
        "plt.style.use('fivethirtyeight')    #This is a specific style"
      ],
      "execution_count": null,
      "outputs": []
    },
    {
      "cell_type": "code",
      "metadata": {
        "id": "IoHjF9Z6a6jV",
        "outputId": "f091ea38-acc5-4ed3-958a-c67955d39f9a",
        "colab": {
          "resources": {
            "http://localhost:8080/nbextensions/google.colab/files.js": {
              "data": "Ly8gQ29weXJpZ2h0IDIwMTcgR29vZ2xlIExMQwovLwovLyBMaWNlbnNlZCB1bmRlciB0aGUgQXBhY2hlIExpY2Vuc2UsIFZlcnNpb24gMi4wICh0aGUgIkxpY2Vuc2UiKTsKLy8geW91IG1heSBub3QgdXNlIHRoaXMgZmlsZSBleGNlcHQgaW4gY29tcGxpYW5jZSB3aXRoIHRoZSBMaWNlbnNlLgovLyBZb3UgbWF5IG9idGFpbiBhIGNvcHkgb2YgdGhlIExpY2Vuc2UgYXQKLy8KLy8gICAgICBodHRwOi8vd3d3LmFwYWNoZS5vcmcvbGljZW5zZXMvTElDRU5TRS0yLjAKLy8KLy8gVW5sZXNzIHJlcXVpcmVkIGJ5IGFwcGxpY2FibGUgbGF3IG9yIGFncmVlZCB0byBpbiB3cml0aW5nLCBzb2Z0d2FyZQovLyBkaXN0cmlidXRlZCB1bmRlciB0aGUgTGljZW5zZSBpcyBkaXN0cmlidXRlZCBvbiBhbiAiQVMgSVMiIEJBU0lTLAovLyBXSVRIT1VUIFdBUlJBTlRJRVMgT1IgQ09ORElUSU9OUyBPRiBBTlkgS0lORCwgZWl0aGVyIGV4cHJlc3Mgb3IgaW1wbGllZC4KLy8gU2VlIHRoZSBMaWNlbnNlIGZvciB0aGUgc3BlY2lmaWMgbGFuZ3VhZ2UgZ292ZXJuaW5nIHBlcm1pc3Npb25zIGFuZAovLyBsaW1pdGF0aW9ucyB1bmRlciB0aGUgTGljZW5zZS4KCi8qKgogKiBAZmlsZW92ZXJ2aWV3IEhlbHBlcnMgZm9yIGdvb2dsZS5jb2xhYiBQeXRob24gbW9kdWxlLgogKi8KKGZ1bmN0aW9uKHNjb3BlKSB7CmZ1bmN0aW9uIHNwYW4odGV4dCwgc3R5bGVBdHRyaWJ1dGVzID0ge30pIHsKICBjb25zdCBlbGVtZW50ID0gZG9jdW1lbnQuY3JlYXRlRWxlbWVudCgnc3BhbicpOwogIGVsZW1lbnQudGV4dENvbnRlbnQgPSB0ZXh0OwogIGZvciAoY29uc3Qga2V5IG9mIE9iamVjdC5rZXlzKHN0eWxlQXR0cmlidXRlcykpIHsKICAgIGVsZW1lbnQuc3R5bGVba2V5XSA9IHN0eWxlQXR0cmlidXRlc1trZXldOwogIH0KICByZXR1cm4gZWxlbWVudDsKfQoKLy8gTWF4IG51bWJlciBvZiBieXRlcyB3aGljaCB3aWxsIGJlIHVwbG9hZGVkIGF0IGEgdGltZS4KY29uc3QgTUFYX1BBWUxPQURfU0laRSA9IDEwMCAqIDEwMjQ7CgpmdW5jdGlvbiBfdXBsb2FkRmlsZXMoaW5wdXRJZCwgb3V0cHV0SWQpIHsKICBjb25zdCBzdGVwcyA9IHVwbG9hZEZpbGVzU3RlcChpbnB1dElkLCBvdXRwdXRJZCk7CiAgY29uc3Qgb3V0cHV0RWxlbWVudCA9IGRvY3VtZW50LmdldEVsZW1lbnRCeUlkKG91dHB1dElkKTsKICAvLyBDYWNoZSBzdGVwcyBvbiB0aGUgb3V0cHV0RWxlbWVudCB0byBtYWtlIGl0IGF2YWlsYWJsZSBmb3IgdGhlIG5leHQgY2FsbAogIC8vIHRvIHVwbG9hZEZpbGVzQ29udGludWUgZnJvbSBQeXRob24uCiAgb3V0cHV0RWxlbWVudC5zdGVwcyA9IHN0ZXBzOwoKICByZXR1cm4gX3VwbG9hZEZpbGVzQ29udGludWUob3V0cHV0SWQpOwp9CgovLyBUaGlzIGlzIHJvdWdobHkgYW4gYXN5bmMgZ2VuZXJhdG9yIChub3Qgc3VwcG9ydGVkIGluIHRoZSBicm93c2VyIHlldCksCi8vIHdoZXJlIHRoZXJlIGFyZSBtdWx0aXBsZSBhc3luY2hyb25vdXMgc3RlcHMgYW5kIHRoZSBQeXRob24gc2lkZSBpcyBnb2luZwovLyB0byBwb2xsIGZvciBjb21wbGV0aW9uIG9mIGVhY2ggc3RlcC4KLy8gVGhpcyB1c2VzIGEgUHJvbWlzZSB0byBibG9jayB0aGUgcHl0aG9uIHNpZGUgb24gY29tcGxldGlvbiBvZiBlYWNoIHN0ZXAsCi8vIHRoZW4gcGFzc2VzIHRoZSByZXN1bHQgb2YgdGhlIHByZXZpb3VzIHN0ZXAgYXMgdGhlIGlucHV0IHRvIHRoZSBuZXh0IHN0ZXAuCmZ1bmN0aW9uIF91cGxvYWRGaWxlc0NvbnRpbnVlKG91dHB1dElkKSB7CiAgY29uc3Qgb3V0cHV0RWxlbWVudCA9IGRvY3VtZW50LmdldEVsZW1lbnRCeUlkKG91dHB1dElkKTsKICBjb25zdCBzdGVwcyA9IG91dHB1dEVsZW1lbnQuc3RlcHM7CgogIGNvbnN0IG5leHQgPSBzdGVwcy5uZXh0KG91dHB1dEVsZW1lbnQubGFzdFByb21pc2VWYWx1ZSk7CiAgcmV0dXJuIFByb21pc2UucmVzb2x2ZShuZXh0LnZhbHVlLnByb21pc2UpLnRoZW4oKHZhbHVlKSA9PiB7CiAgICAvLyBDYWNoZSB0aGUgbGFzdCBwcm9taXNlIHZhbHVlIHRvIG1ha2UgaXQgYXZhaWxhYmxlIHRvIHRoZSBuZXh0CiAgICAvLyBzdGVwIG9mIHRoZSBnZW5lcmF0b3IuCiAgICBvdXRwdXRFbGVtZW50Lmxhc3RQcm9taXNlVmFsdWUgPSB2YWx1ZTsKICAgIHJldHVybiBuZXh0LnZhbHVlLnJlc3BvbnNlOwogIH0pOwp9CgovKioKICogR2VuZXJhdG9yIGZ1bmN0aW9uIHdoaWNoIGlzIGNhbGxlZCBiZXR3ZWVuIGVhY2ggYXN5bmMgc3RlcCBvZiB0aGUgdXBsb2FkCiAqIHByb2Nlc3MuCiAqIEBwYXJhbSB7c3RyaW5nfSBpbnB1dElkIEVsZW1lbnQgSUQgb2YgdGhlIGlucHV0IGZpbGUgcGlja2VyIGVsZW1lbnQuCiAqIEBwYXJhbSB7c3RyaW5nfSBvdXRwdXRJZCBFbGVtZW50IElEIG9mIHRoZSBvdXRwdXQgZGlzcGxheS4KICogQHJldHVybiB7IUl0ZXJhYmxlPCFPYmplY3Q+fSBJdGVyYWJsZSBvZiBuZXh0IHN0ZXBzLgogKi8KZnVuY3Rpb24qIHVwbG9hZEZpbGVzU3RlcChpbnB1dElkLCBvdXRwdXRJZCkgewogIGNvbnN0IGlucHV0RWxlbWVudCA9IGRvY3VtZW50LmdldEVsZW1lbnRCeUlkKGlucHV0SWQpOwogIGlucHV0RWxlbWVudC5kaXNhYmxlZCA9IGZhbHNlOwoKICBjb25zdCBvdXRwdXRFbGVtZW50ID0gZG9jdW1lbnQuZ2V0RWxlbWVudEJ5SWQob3V0cHV0SWQpOwogIG91dHB1dEVsZW1lbnQuaW5uZXJIVE1MID0gJyc7CgogIGNvbnN0IHBpY2tlZFByb21pc2UgPSBuZXcgUHJvbWlzZSgocmVzb2x2ZSkgPT4gewogICAgaW5wdXRFbGVtZW50LmFkZEV2ZW50TGlzdGVuZXIoJ2NoYW5nZScsIChlKSA9PiB7CiAgICAgIHJlc29sdmUoZS50YXJnZXQuZmlsZXMpOwogICAgfSk7CiAgfSk7CgogIGNvbnN0IGNhbmNlbCA9IGRvY3VtZW50LmNyZWF0ZUVsZW1lbnQoJ2J1dHRvbicpOwogIGlucHV0RWxlbWVudC5wYXJlbnRFbGVtZW50LmFwcGVuZENoaWxkKGNhbmNlbCk7CiAgY2FuY2VsLnRleHRDb250ZW50ID0gJ0NhbmNlbCB1cGxvYWQnOwogIGNvbnN0IGNhbmNlbFByb21pc2UgPSBuZXcgUHJvbWlzZSgocmVzb2x2ZSkgPT4gewogICAgY2FuY2VsLm9uY2xpY2sgPSAoKSA9PiB7CiAgICAgIHJlc29sdmUobnVsbCk7CiAgICB9OwogIH0pOwoKICAvLyBXYWl0IGZvciB0aGUgdXNlciB0byBwaWNrIHRoZSBmaWxlcy4KICBjb25zdCBmaWxlcyA9IHlpZWxkIHsKICAgIHByb21pc2U6IFByb21pc2UucmFjZShbcGlja2VkUHJvbWlzZSwgY2FuY2VsUHJvbWlzZV0pLAogICAgcmVzcG9uc2U6IHsKICAgICAgYWN0aW9uOiAnc3RhcnRpbmcnLAogICAgfQogIH07CgogIGNhbmNlbC5yZW1vdmUoKTsKCiAgLy8gRGlzYWJsZSB0aGUgaW5wdXQgZWxlbWVudCBzaW5jZSBmdXJ0aGVyIHBpY2tzIGFyZSBub3QgYWxsb3dlZC4KICBpbnB1dEVsZW1lbnQuZGlzYWJsZWQgPSB0cnVlOwoKICBpZiAoIWZpbGVzKSB7CiAgICByZXR1cm4gewogICAgICByZXNwb25zZTogewogICAgICAgIGFjdGlvbjogJ2NvbXBsZXRlJywKICAgICAgfQogICAgfTsKICB9CgogIGZvciAoY29uc3QgZmlsZSBvZiBmaWxlcykgewogICAgY29uc3QgbGkgPSBkb2N1bWVudC5jcmVhdGVFbGVtZW50KCdsaScpOwogICAgbGkuYXBwZW5kKHNwYW4oZmlsZS5uYW1lLCB7Zm9udFdlaWdodDogJ2JvbGQnfSkpOwogICAgbGkuYXBwZW5kKHNwYW4oCiAgICAgICAgYCgke2ZpbGUudHlwZSB8fCAnbi9hJ30pIC0gJHtmaWxlLnNpemV9IGJ5dGVzLCBgICsKICAgICAgICBgbGFzdCBtb2RpZmllZDogJHsKICAgICAgICAgICAgZmlsZS5sYXN0TW9kaWZpZWREYXRlID8gZmlsZS5sYXN0TW9kaWZpZWREYXRlLnRvTG9jYWxlRGF0ZVN0cmluZygpIDoKICAgICAgICAgICAgICAgICAgICAgICAgICAgICAgICAgICAgJ24vYSd9IC0gYCkpOwogICAgY29uc3QgcGVyY2VudCA9IHNwYW4oJzAlIGRvbmUnKTsKICAgIGxpLmFwcGVuZENoaWxkKHBlcmNlbnQpOwoKICAgIG91dHB1dEVsZW1lbnQuYXBwZW5kQ2hpbGQobGkpOwoKICAgIGNvbnN0IGZpbGVEYXRhUHJvbWlzZSA9IG5ldyBQcm9taXNlKChyZXNvbHZlKSA9PiB7CiAgICAgIGNvbnN0IHJlYWRlciA9IG5ldyBGaWxlUmVhZGVyKCk7CiAgICAgIHJlYWRlci5vbmxvYWQgPSAoZSkgPT4gewogICAgICAgIHJlc29sdmUoZS50YXJnZXQucmVzdWx0KTsKICAgICAgfTsKICAgICAgcmVhZGVyLnJlYWRBc0FycmF5QnVmZmVyKGZpbGUpOwogICAgfSk7CiAgICAvLyBXYWl0IGZvciB0aGUgZGF0YSB0byBiZSByZWFkeS4KICAgIGxldCBmaWxlRGF0YSA9IHlpZWxkIHsKICAgICAgcHJvbWlzZTogZmlsZURhdGFQcm9taXNlLAogICAgICByZXNwb25zZTogewogICAgICAgIGFjdGlvbjogJ2NvbnRpbnVlJywKICAgICAgfQogICAgfTsKCiAgICAvLyBVc2UgYSBjaHVua2VkIHNlbmRpbmcgdG8gYXZvaWQgbWVzc2FnZSBzaXplIGxpbWl0cy4gU2VlIGIvNjIxMTU2NjAuCiAgICBsZXQgcG9zaXRpb24gPSAwOwogICAgd2hpbGUgKHBvc2l0aW9uIDwgZmlsZURhdGEuYnl0ZUxlbmd0aCkgewogICAgICBjb25zdCBsZW5ndGggPSBNYXRoLm1pbihmaWxlRGF0YS5ieXRlTGVuZ3RoIC0gcG9zaXRpb24sIE1BWF9QQVlMT0FEX1NJWkUpOwogICAgICBjb25zdCBjaHVuayA9IG5ldyBVaW50OEFycmF5KGZpbGVEYXRhLCBwb3NpdGlvbiwgbGVuZ3RoKTsKICAgICAgcG9zaXRpb24gKz0gbGVuZ3RoOwoKICAgICAgY29uc3QgYmFzZTY0ID0gYnRvYShTdHJpbmcuZnJvbUNoYXJDb2RlLmFwcGx5KG51bGwsIGNodW5rKSk7CiAgICAgIHlpZWxkIHsKICAgICAgICByZXNwb25zZTogewogICAgICAgICAgYWN0aW9uOiAnYXBwZW5kJywKICAgICAgICAgIGZpbGU6IGZpbGUubmFtZSwKICAgICAgICAgIGRhdGE6IGJhc2U2NCwKICAgICAgICB9LAogICAgICB9OwogICAgICBwZXJjZW50LnRleHRDb250ZW50ID0KICAgICAgICAgIGAke01hdGgucm91bmQoKHBvc2l0aW9uIC8gZmlsZURhdGEuYnl0ZUxlbmd0aCkgKiAxMDApfSUgZG9uZWA7CiAgICB9CiAgfQoKICAvLyBBbGwgZG9uZS4KICB5aWVsZCB7CiAgICByZXNwb25zZTogewogICAgICBhY3Rpb246ICdjb21wbGV0ZScsCiAgICB9CiAgfTsKfQoKc2NvcGUuZ29vZ2xlID0gc2NvcGUuZ29vZ2xlIHx8IHt9OwpzY29wZS5nb29nbGUuY29sYWIgPSBzY29wZS5nb29nbGUuY29sYWIgfHwge307CnNjb3BlLmdvb2dsZS5jb2xhYi5fZmlsZXMgPSB7CiAgX3VwbG9hZEZpbGVzLAogIF91cGxvYWRGaWxlc0NvbnRpbnVlLAp9Owp9KShzZWxmKTsK",
              "ok": true,
              "headers": [
                [
                  "content-type",
                  "application/javascript"
                ]
              ],
              "status": 200,
              "status_text": ""
            }
          },
          "base_uri": "https://localhost:8080/",
          "height": 73
        }
      },
      "source": [
        "from google.colab import files\n",
        "uploaded=files.upload()"
      ],
      "execution_count": null,
      "outputs": [
        {
          "output_type": "display_data",
          "data": {
            "text/html": [
              "\n",
              "     <input type=\"file\" id=\"files-b975eb8a-4c9f-4720-8828-6a7ba563c18a\" name=\"files[]\" multiple disabled\n",
              "        style=\"border:none\" />\n",
              "     <output id=\"result-b975eb8a-4c9f-4720-8828-6a7ba563c18a\">\n",
              "      Upload widget is only available when the cell has been executed in the\n",
              "      current browser session. Please rerun this cell to enable.\n",
              "      </output>\n",
              "      <script src=\"/nbextensions/google.colab/files.js\"></script> "
            ],
            "text/plain": [
              "<IPython.core.display.HTML object>"
            ]
          },
          "metadata": {
            "tags": []
          }
        },
        {
          "output_type": "stream",
          "text": [
            "Saving keni_week10_data.xlsx to keni_week10_data.xlsx\n"
          ],
          "name": "stdout"
        }
      ]
    },
    {
      "cell_type": "code",
      "metadata": {
        "id": "1jCXvzEmbX7Q",
        "outputId": "ea8c3498-a573-4eb3-c67e-366cc71ac032",
        "colab": {
          "base_uri": "https://localhost:8080/",
          "height": 225
        }
      },
      "source": [
        "stock_data=pd.read_excel(\"keni_week10_data.xlsx\", index_col=0)\n",
        "stock_data.head()   #Just to check whether we loaded the correct dataset"
      ],
      "execution_count": null,
      "outputs": [
        {
          "output_type": "execute_result",
          "data": {
            "text/html": [
              "<div>\n",
              "<style scoped>\n",
              "    .dataframe tbody tr th:only-of-type {\n",
              "        vertical-align: middle;\n",
              "    }\n",
              "\n",
              "    .dataframe tbody tr th {\n",
              "        vertical-align: top;\n",
              "    }\n",
              "\n",
              "    .dataframe thead th {\n",
              "        text-align: right;\n",
              "    }\n",
              "</style>\n",
              "<table border=\"1\" class=\"dataframe\">\n",
              "  <thead>\n",
              "    <tr style=\"text-align: right;\">\n",
              "      <th></th>\n",
              "      <th>PX_HIGH</th>\n",
              "      <th>PX_LOW</th>\n",
              "      <th>PX_OPEN</th>\n",
              "      <th>PX_CLOSE</th>\n",
              "      <th>Adj Close</th>\n",
              "      <th>Volume</th>\n",
              "    </tr>\n",
              "    <tr>\n",
              "      <th>Date</th>\n",
              "      <th></th>\n",
              "      <th></th>\n",
              "      <th></th>\n",
              "      <th></th>\n",
              "      <th></th>\n",
              "      <th></th>\n",
              "    </tr>\n",
              "  </thead>\n",
              "  <tbody>\n",
              "    <tr>\n",
              "      <th>2012-01-03</th>\n",
              "      <td>30.542</td>\n",
              "      <td>30.30</td>\n",
              "      <td>30.46</td>\n",
              "      <td>30.38</td>\n",
              "      <td>30.4482</td>\n",
              "      <td>33005280</td>\n",
              "    </tr>\n",
              "    <tr>\n",
              "      <th>2012-01-04</th>\n",
              "      <td>30.680</td>\n",
              "      <td>30.35</td>\n",
              "      <td>30.58</td>\n",
              "      <td>30.43</td>\n",
              "      <td>30.5102</td>\n",
              "      <td>37217380</td>\n",
              "    </tr>\n",
              "    <tr>\n",
              "      <th>2012-01-05</th>\n",
              "      <td>30.500</td>\n",
              "      <td>30.18</td>\n",
              "      <td>30.49</td>\n",
              "      <td>30.40</td>\n",
              "      <td>30.3361</td>\n",
              "      <td>34465639</td>\n",
              "    </tr>\n",
              "    <tr>\n",
              "      <th>2012-01-06</th>\n",
              "      <td>30.090</td>\n",
              "      <td>29.60</td>\n",
              "      <td>30.07</td>\n",
              "      <td>29.68</td>\n",
              "      <td>29.7412</td>\n",
              "      <td>45581958</td>\n",
              "    </tr>\n",
              "    <tr>\n",
              "      <th>2012-01-09</th>\n",
              "      <td>29.850</td>\n",
              "      <td>29.50</td>\n",
              "      <td>29.81</td>\n",
              "      <td>29.66</td>\n",
              "      <td>29.6097</td>\n",
              "      <td>26791849</td>\n",
              "    </tr>\n",
              "  </tbody>\n",
              "</table>\n",
              "</div>"
            ],
            "text/plain": [
              "            PX_HIGH  PX_LOW  PX_OPEN  PX_CLOSE  Adj Close    Volume\n",
              "Date                                                               \n",
              "2012-01-03   30.542   30.30    30.46     30.38    30.4482  33005280\n",
              "2012-01-04   30.680   30.35    30.58     30.43    30.5102  37217380\n",
              "2012-01-05   30.500   30.18    30.49     30.40    30.3361  34465639\n",
              "2012-01-06   30.090   29.60    30.07     29.68    29.7412  45581958\n",
              "2012-01-09   29.850   29.50    29.81     29.66    29.6097  26791849"
            ]
          },
          "metadata": {
            "tags": []
          },
          "execution_count": 4
        }
      ]
    },
    {
      "cell_type": "code",
      "metadata": {
        "id": "Z_3Jr7uJbsj1",
        "outputId": "9f864a05-8dc7-45a1-8cb1-cc31ae4cd95b",
        "colab": {
          "base_uri": "https://localhost:8080/"
        }
      },
      "source": [
        "stock_data.shape  #Checking the size of the dataset"
      ],
      "execution_count": null,
      "outputs": [
        {
          "output_type": "execute_result",
          "data": {
            "text/plain": [
              "(2221, 6)"
            ]
          },
          "metadata": {
            "tags": []
          },
          "execution_count": 5
        }
      ]
    },
    {
      "cell_type": "code",
      "metadata": {
        "id": "xnPF0yYpbvRZ",
        "outputId": "f93267c9-b38d-439a-c41a-367b0df36575",
        "colab": {
          "base_uri": "https://localhost:8080/",
          "height": 296
        }
      },
      "source": [
        "plt.figure(figsize=(8,4))\n",
        "plt.title('CLOSE PRICE HISTORY OF AT&T')\n",
        "plt.plot(stock_data['PX_CLOSE'])\n",
        "plt.xlabel('DATE',fontsize=12)\n",
        "plt.ylabel('CLOSE PRICE USD ($)', fontsize=12)\n",
        "plt.show()         #Visualizing the closing price history of AT&T"
      ],
      "execution_count": null,
      "outputs": [
        {
          "output_type": "display_data",
          "data": {
            "image/png": "[encoded data removed]",
            "text/plain": [
              "<Figure size 576x288 with 1 Axes>"
            ]
          },
          "metadata": {
            "tags": [],
            "needs_background": "light"
          }
        }
      ]
    },
    {
      "cell_type": "markdown",
      "metadata": {
        "id": "L51jzjcldsEx"
      },
      "source": [
        "**Part 2: Splitting Data set in Training and Test Data sets**"
      ]
    },
    {
      "cell_type": "code",
      "metadata": {
        "id": "KOWPxrIebxAt",
        "outputId": "32db2bdd-39ae-4476-99d8-a6f5ce0f6373",
        "colab": {
          "base_uri": "https://localhost:8080/"
        }
      },
      "source": [
        "df=stock_data.filter(['PX_CLOSE'])  #Creating a new dataframe with only \"Close\" column\n",
        "dataset=df.values                   #Converting dataframe to a numpy array\n",
        "training_data_len=math.ceil(len(dataset)* .8)   #Getting the number of rows to train the model. Here we got 80% of data\n",
        "training_data_len   #Print the number. The output should be 80% of total rows i.e. 2221"
      ],
      "execution_count": null,
      "outputs": [
        {
          "output_type": "execute_result",
          "data": {
            "text/plain": [
              "1777"
            ]
          },
          "metadata": {
            "tags": []
          },
          "execution_count": 7
        }
      ]
    },
    {
      "cell_type": "code",
      "metadata": {
        "id": "hypPP4a3bzL9",
        "outputId": "25642674-3de4-457c-c088-25c6c7d44a32",
        "colab": {
          "base_uri": "https://localhost:8080/"
        }
      },
      "source": [
        "scaler=MinMaxScaler(feature_range=(0,1))  #It is necessary to Scale the dataset before giving it to NeuralNetwork Model\n",
        "scaled_data=scaler.fit_transform(dataset) #Computes the min and max values \n",
        "scaled_data"
      ],
      "execution_count": null,
      "outputs": [
        {
          "output_type": "execute_result",
          "data": {
            "text/plain": [
              "array([[0.22863877],\n",
              "       [0.23158515],\n",
              "       [0.22981732],\n",
              "       ...,\n",
              "       [0.05185622],\n",
              "       [0.02474956],\n",
              "       [0.        ]])"
            ]
          },
          "metadata": {
            "tags": []
          },
          "execution_count": 8
        }
      ]
    },
    {
      "cell_type": "code",
      "metadata": {
        "id": "7HwTMvrdb0-q",
        "outputId": "aa6baea2-82f1-4c4d-e65d-1ff1e5ae0d8c",
        "colab": {
          "base_uri": "https://localhost:8080/"
        }
      },
      "source": [
        "train_data=scaled_data[0:training_data_len , :]  #Create the scaled training data set\n",
        "\n",
        "#Splitting the data into training data sets namely x_train and y_train\n",
        "x_train=[]\n",
        "y_train=[]\n",
        "\n",
        "for i in range(60, len(train_data)):\n",
        "    x_train.append(train_data[i-60:i, 0])   #Contains first 60 values indexed from 0 to 59\n",
        "    y_train.append(train_data[i, 0])\n",
        "    \n",
        "    if i<=61:\n",
        "        print(\"X training dataset is\", x_train)  #Prints the two pass through\n",
        "        print(\"Y training dataset is\", y_train)  #Prints the 61st value that we want our model to predict\n",
        "        print()\n"
      ],
      "execution_count": null,
      "outputs": [
        {
          "output_type": "stream",
          "text": [
            "X training dataset is [array([0.22863877, 0.23158515, 0.22981732, 0.18738951, 0.18621096,\n",
            "       0.19210371, 0.20565704, 0.21331762, 0.21037124, 0.2209782 ,\n",
            "       0.2256924 , 0.23099588, 0.23629935, 0.22981732, 0.21154979,\n",
            "       0.2186211 , 0.17383618, 0.1567472 , 0.16735415, 0.17147908,\n",
            "       0.18267531, 0.19387154, 0.20329994, 0.20447849, 0.20860342,\n",
            "       0.20742487, 0.20565704, 0.19681791, 0.20860342, 0.21037124,\n",
            "       0.19858574, 0.20742487, 0.20683559, 0.22628167, 0.22274602,\n",
            "       0.23335298, 0.22628167, 0.22746022, 0.2374779 , 0.24101355,\n",
            "       0.24337065, 0.25751326, 0.26458456, 0.24896877, 0.25810253,\n",
            "       0.26517384, 0.27578079, 0.29110194, 0.30229817, 0.29169122,\n",
            "       0.30288745, 0.29994107, 0.30347672, 0.31172658, 0.31467295,\n",
            "       0.30701237, 0.29581615, 0.31172658, 0.30288745, 0.28638774])]\n",
            "Y training dataset is [0.2775486152033002]\n",
            "\n",
            "X training dataset is [array([0.22863877, 0.23158515, 0.22981732, 0.18738951, 0.18621096,\n",
            "       0.19210371, 0.20565704, 0.21331762, 0.21037124, 0.2209782 ,\n",
            "       0.2256924 , 0.23099588, 0.23629935, 0.22981732, 0.21154979,\n",
            "       0.2186211 , 0.17383618, 0.1567472 , 0.16735415, 0.17147908,\n",
            "       0.18267531, 0.19387154, 0.20329994, 0.20447849, 0.20860342,\n",
            "       0.20742487, 0.20565704, 0.19681791, 0.20860342, 0.21037124,\n",
            "       0.19858574, 0.20742487, 0.20683559, 0.22628167, 0.22274602,\n",
            "       0.23335298, 0.22628167, 0.22746022, 0.2374779 , 0.24101355,\n",
            "       0.24337065, 0.25751326, 0.26458456, 0.24896877, 0.25810253,\n",
            "       0.26517384, 0.27578079, 0.29110194, 0.30229817, 0.29169122,\n",
            "       0.30288745, 0.29994107, 0.30347672, 0.31172658, 0.31467295,\n",
            "       0.30701237, 0.29581615, 0.31172658, 0.30288745, 0.28638774]), array([0.23158515, 0.22981732, 0.18738951, 0.18621096, 0.19210371,\n",
            "       0.20565704, 0.21331762, 0.21037124, 0.2209782 , 0.2256924 ,\n",
            "       0.23099588, 0.23629935, 0.22981732, 0.21154979, 0.2186211 ,\n",
            "       0.17383618, 0.1567472 , 0.16735415, 0.17147908, 0.18267531,\n",
            "       0.19387154, 0.20329994, 0.20447849, 0.20860342, 0.20742487,\n",
            "       0.20565704, 0.19681791, 0.20860342, 0.21037124, 0.19858574,\n",
            "       0.20742487, 0.20683559, 0.22628167, 0.22274602, 0.23335298,\n",
            "       0.22628167, 0.22746022, 0.2374779 , 0.24101355, 0.24337065,\n",
            "       0.25751326, 0.26458456, 0.24896877, 0.25810253, 0.26517384,\n",
            "       0.27578079, 0.29110194, 0.30229817, 0.29169122, 0.30288745,\n",
            "       0.29994107, 0.30347672, 0.31172658, 0.31467295, 0.30701237,\n",
            "       0.29581615, 0.31172658, 0.30288745, 0.28638774, 0.27754862])]\n",
            "Y training dataset is [0.2775486152033002, 0.27872716558632904]\n",
            "\n"
          ],
          "name": "stdout"
        }
      ]
    },
    {
      "cell_type": "code",
      "metadata": {
        "id": "tWZUSQ7rb3hi"
      },
      "source": [
        "#Convert the x_train and y_train to numpy arrays\n",
        "x_train, y_train = np.array(x_train), np.array(y_train) "
      ],
      "execution_count": null,
      "outputs": []
    },
    {
      "cell_type": "code",
      "metadata": {
        "id": "aMosx-Wtb55A",
        "outputId": "b007154a-be66-41a6-88e7-a3167a69feab",
        "colab": {
          "base_uri": "https://localhost:8080/"
        }
      },
      "source": [
        "#Reshape the data\n",
        "x_train=np.reshape(x_train, (x_train.shape[0], x_train.shape[1], 1))  #3-dimensional shape for our dataset\n",
        "x_train.shape"
      ],
      "execution_count": null,
      "outputs": [
        {
          "output_type": "execute_result",
          "data": {
            "text/plain": [
              "(1717, 60, 1)"
            ]
          },
          "metadata": {
            "tags": []
          },
          "execution_count": 11
        }
      ]
    },
    {
      "cell_type": "markdown",
      "metadata": {
        "id": "vdlh2_BqeNnh"
      },
      "source": [
        "**Part 3: Model Training and accuracy/ error/ loss**"
      ]
    },
    {
      "cell_type": "code",
      "metadata": {
        "id": "lB0qCc02b7Zj"
      },
      "source": [
        "#Build The LSTM Model\n",
        "model = Sequential()\n",
        "model.add(LSTM(50, return_sequences=True,input_shape=(x_train.shape[1], 1)))   #Adding 50 neurons. Since this is first layer, it should have input layer\n",
        "model.add(LSTM(50, return_sequences=False))    #Adding 50 neurons. Here, we are not using LSTM layers for our model's architecture\n",
        "model.add(Dense(25))                           #regular neural network model with 25 neurons\n",
        "model.add(Dense(1))                      "
      ],
      "execution_count": null,
      "outputs": []
    },
    {
      "cell_type": "code",
      "metadata": {
        "id": "AIzhJvL9cGRA"
      },
      "source": [
        "#Compile the model\n",
        "\n",
        "#optimizer is used to improve upon loss function and loss function is used to determine the performance of model on training \n",
        "model.compile(optimizer='adam', loss='mean_squared_error')   "
      ],
      "execution_count": null,
      "outputs": []
    },
    {
      "cell_type": "code",
      "metadata": {
        "id": "27fdZ7cpf5Z3",
        "outputId": "6ec66ce3-eea3-4a11-ab90-e75897ac8dd4",
        "colab": {
          "base_uri": "https://localhost:8080/"
        }
      },
      "source": [
        "#Train the model\n",
        "model.fit(x_train,y_train, batch_size=1, epochs=1)"
      ],
      "execution_count": null,
      "outputs": [
        {
          "output_type": "stream",
          "text": [
            "1717/1717 [==============================] - 37s 22ms/step - loss: 0.0037\n"
          ],
          "name": "stdout"
        },
        {
          "output_type": "execute_result",
          "data": {
            "text/plain": [
              "<tensorflow.python.keras.callbacks.History at 0x7ff7e6911208>"
            ]
          },
          "metadata": {
            "tags": []
          },
          "execution_count": 16
        }
      ]
    },
    {
      "cell_type": "code",
      "metadata": {
        "id": "Jak7UnDKf6Fb"
      },
      "source": [
        "#Creating the testing data set\n",
        "\n",
        "test_data=scaled_data[training_data_len - 60:, :]  #Create a new array containing scaled values from index 1717 to the end of our dataset  \n",
        "\n",
        "#Create the data sets x_test and y_test\n",
        "x_test=[]\n",
        "y_test=dataset[training_data_len:, :]   #y_test will have the values that our model wants to predict\n",
        "for i in range(60, len(test_data)):\n",
        "  x_test.append(test_data[i-60:i, 0])   #x_test dataset contains the past 60 values"
      ],
      "execution_count": null,
      "outputs": []
    },
    {
      "cell_type": "code",
      "metadata": {
        "id": "AZhsmQdJiENh"
      },
      "source": [
        "#Convert the data to a numpy array so that we can use it in the LSTM model\n",
        "x_test=np.array(x_test)"
      ],
      "execution_count": null,
      "outputs": []
    },
    {
      "cell_type": "code",
      "metadata": {
        "id": "seVzesk_iEYn"
      },
      "source": [
        "#Reshape the data into 3-dimensional while our dataset is 2-dimensional. LSTM expects 3-dimensional shape.\n",
        "x_test=np.reshape(x_test,(x_test.shape[0], x_test.shape[1], 1))"
      ],
      "execution_count": null,
      "outputs": []
    },
    {
      "cell_type": "code",
      "metadata": {
        "id": "u4yopv22iPLx"
      },
      "source": [
        "#Get the models predicted price values\n",
        "predictions=model.predict(x_test)   \n",
        "predictions=scaler.inverse_transform(predictions)   #unscaling the values. we want predictions to contain same values as y_test dataset"
      ],
      "execution_count": null,
      "outputs": []
    },
    {
      "cell_type": "code",
      "metadata": {
        "id": "yFR_hVIOi9eX",
        "outputId": "a6355876-ed16-4b6a-d159-381987e1df33",
        "colab": {
          "base_uri": "https://localhost:8080/"
        }
      },
      "source": [
        "#Evaluating the model using root mean Squared error (RMSE)\n",
        "rmse=np.sqrt(np.mean(predictions - y_test)**2)\n",
        "rmse"
      ],
      "execution_count": null,
      "outputs": [
        {
          "output_type": "execute_result",
          "data": {
            "text/plain": [
              "0.1275986580376153"
            ]
          },
          "metadata": {
            "tags": []
          },
          "execution_count": 67
        }
      ]
    },
    {
      "cell_type": "markdown",
      "metadata": {
        "id": "OZv9q836obuw"
      },
      "source": [
        "The RMSE value means that the predictions were perfect."
      ]
    },
    {
      "cell_type": "markdown",
      "metadata": {
        "id": "YS5eYnl7jeoT"
      },
      "source": [
        "**Part 4: Visualize the performance of the model**"
      ]
    },
    {
      "cell_type": "code",
      "metadata": {
        "id": "zCoewKTqxXaW",
        "outputId": "43d79eec-9d38-43ef-a4aa-2ec9d802cceb",
        "colab": {
          "base_uri": "https://localhost:8080/",
          "height": 619
        }
      },
      "source": [
        "train=df[: training_data_len]\n",
        "valid=df[training_data_len:]\n",
        "valid['Predictions'] = predictions\n",
        "plt.figure(figsize=(16,8))\n",
        "plt.title('Model')\n",
        "plt.xlabel('Date', fontsize=18)\n",
        "plt.ylabel('Close Price USD ($)', fontsize=18)\n",
        "plt.plot(train['PX_CLOSE'])\n",
        "plt.plot(valid[['PX_CLOSE','Predictions']])\n",
        "plt.legend(['Train','Val','Predictions'], loc='lower right')\n",
        "plt.show()"
      ],
      "execution_count": null,
      "outputs": [
        {
          "output_type": "stream",
          "text": [
            "/usr/local/lib/python3.6/dist-packages/ipykernel_launcher.py:3: SettingWithCopyWarning: \n",
            "A value is trying to be set on a copy of a slice from a DataFrame.\n",
            "Try using .loc[row_indexer,col_indexer] = value instead\n",
            "\n",
            "See the caveats in the documentation: https://pandas.pydata.org/pandas-docs/stable/user_guide/indexing.html#returning-a-view-versus-a-copy\n",
            "  This is separate from the ipykernel package so we can avoid doing imports until\n"
          ],
          "name": "stderr"
        },
        {
          "output_type": "display_data",
          "data": {
            "image/png": "[encoded data removed]",
            "text/plain": [
              "<Figure size 1152x576 with 1 Axes>"
            ]
          },
          "metadata": {
            "tags": [],
            "needs_background": "light"
          }
        }
      ]
    },
    {
      "cell_type": "code",
      "metadata": {
        "id": "EljKk4Gm6JS9",
        "outputId": "58eb4682-38bc-44a6-c5a4-a9a1e7cac599",
        "colab": {
          "base_uri": "https://localhost:8080/",
          "height": 431
        }
      },
      "source": [
        "#Show the valid and predicted prices\n",
        "valid"
      ],
      "execution_count": null,
      "outputs": [
        {
          "output_type": "execute_result",
          "data": {
            "text/html": [
              "<div>\n",
              "<style scoped>\n",
              "    .dataframe tbody tr th:only-of-type {\n",
              "        vertical-align: middle;\n",
              "    }\n",
              "\n",
              "    .dataframe tbody tr th {\n",
              "        vertical-align: top;\n",
              "    }\n",
              "\n",
              "    .dataframe thead th {\n",
              "        text-align: right;\n",
              "    }\n",
              "</style>\n",
              "<table border=\"1\" class=\"dataframe\">\n",
              "  <thead>\n",
              "    <tr style=\"text-align: right;\">\n",
              "      <th></th>\n",
              "      <th>PX_CLOSE</th>\n",
              "      <th>Predictions</th>\n",
              "    </tr>\n",
              "    <tr>\n",
              "      <th>Date</th>\n",
              "      <th></th>\n",
              "      <th></th>\n",
              "    </tr>\n",
              "  </thead>\n",
              "  <tbody>\n",
              "    <tr>\n",
              "      <th>2019-01-28</th>\n",
              "      <td>30.67</td>\n",
              "      <td>30.884857</td>\n",
              "    </tr>\n",
              "    <tr>\n",
              "      <th>2019-01-29</th>\n",
              "      <td>30.70</td>\n",
              "      <td>30.877165</td>\n",
              "    </tr>\n",
              "    <tr>\n",
              "      <th>2019-01-30</th>\n",
              "      <td>29.37</td>\n",
              "      <td>30.876318</td>\n",
              "    </tr>\n",
              "    <tr>\n",
              "      <th>2019-01-31</th>\n",
              "      <td>30.06</td>\n",
              "      <td>30.675543</td>\n",
              "    </tr>\n",
              "    <tr>\n",
              "      <th>2019-02-01</th>\n",
              "      <td>30.00</td>\n",
              "      <td>30.532873</td>\n",
              "    </tr>\n",
              "    <tr>\n",
              "      <th>...</th>\n",
              "      <td>...</td>\n",
              "      <td>...</td>\n",
              "    </tr>\n",
              "    <tr>\n",
              "      <th>2020-10-22</th>\n",
              "      <td>28.28</td>\n",
              "      <td>27.710674</td>\n",
              "    </tr>\n",
              "    <tr>\n",
              "      <th>2020-10-23</th>\n",
              "      <td>27.82</td>\n",
              "      <td>27.791636</td>\n",
              "    </tr>\n",
              "    <tr>\n",
              "      <th>2020-10-26</th>\n",
              "      <td>27.38</td>\n",
              "      <td>27.907955</td>\n",
              "    </tr>\n",
              "    <tr>\n",
              "      <th>2020-10-27</th>\n",
              "      <td>26.92</td>\n",
              "      <td>27.960184</td>\n",
              "    </tr>\n",
              "    <tr>\n",
              "      <th>2020-10-28</th>\n",
              "      <td>26.50</td>\n",
              "      <td>27.913074</td>\n",
              "    </tr>\n",
              "  </tbody>\n",
              "</table>\n",
              "<p>444 rows × 2 columns</p>\n",
              "</div>"
            ],
            "text/plain": [
              "            PX_CLOSE  Predictions\n",
              "Date                             \n",
              "2019-01-28     30.67    30.884857\n",
              "2019-01-29     30.70    30.877165\n",
              "2019-01-30     29.37    30.876318\n",
              "2019-01-31     30.06    30.675543\n",
              "2019-02-01     30.00    30.532873\n",
              "...              ...          ...\n",
              "2020-10-22     28.28    27.710674\n",
              "2020-10-23     27.82    27.791636\n",
              "2020-10-26     27.38    27.907955\n",
              "2020-10-27     26.92    27.960184\n",
              "2020-10-28     26.50    27.913074\n",
              "\n",
              "[444 rows x 2 columns]"
            ]
          },
          "metadata": {
            "tags": []
          },
          "execution_count": 76
        }
      ]
    },
    {
      "cell_type": "markdown",
      "metadata": {
        "id": "UFZpOzB05Gy4"
      },
      "source": [
        "# **SECTION 4: SAVING THE ML MODEL FOR DISTRIBUTION**"
      ]
    },
    {
      "cell_type": "markdown",
      "metadata": {
        "id": "WSelyK-CLFhw"
      },
      "source": [
        "In my Github, I have a private repository named 'Week 1'. I have uploaded my file 'keni_week11.ipynb' and dataset named 'keni_week10_data.xlsx' in the private repo. This is the dataset which I submitted in 10th Week and I did not want to make further changes to the data. So my Dataset remains the same. "
      ]
    },
    {
      "cell_type": "markdown",
      "metadata": {
        "id": "D1Dj1icI5l0q"
      },
      "source": [
        "# **SECTION 5: INFERENCE TEST OF THE MODEL**"
      ]
    },
    {
      "cell_type": "markdown",
      "metadata": {
        "id": "FPo5eY6ZQFkS"
      },
      "source": [
        "The LSTM Model is very popular in time series forcasting and this is the main reason why this model is chosen in this task. The task is to predict the stock prices for a few days, which is a time series problem. "
      ]
    },
    {
      "cell_type": "markdown",
      "metadata": {
        "id": "a5v-ZlgeQ0vh"
      },
      "source": [
        "Testing the inference"
      ]
    },
    {
      "cell_type": "code",
      "metadata": {
        "id": "XzKUNimR5g_W",
        "outputId": "3f11ac25-30f7-43b9-aa07-fcdbc4767331",
        "colab": {
          "base_uri": "https://localhost:8080/"
        }
      },
      "source": [
        "new_df=stock_data.filter(['PX_CLOSE'])  #Creating new dataframe with considering 'Close' column\n",
        "\n",
        "last_60_days=new_df[-60:].values   #Get the last 60 days closing price values and convert the dataframe to an array\n",
        "\n",
        "last_60_days_scaled=scaler.transform(last_60_days)  #Scale the data to be values between 0 and 1\n",
        "\n",
        "X_test=[]    #Create an empty list\n",
        "X_test.append(last_60_days_scaled)   #Append the last 60 days\n",
        "\n",
        "X_test=np.array(X_test) #convert the X_test dataset to a numpy array\n",
        "\n",
        "X_test=np.reshape(X_test, (X_test.shape[0], X_test.shape[1], 1)) #reshape the data\n",
        "pred_price=model.predict(X_test)  #get the predicted scaled price\n",
        "\n",
        "pred_price=scaler.inverse_transform(pred_price) #scaling\n",
        "print(pred_price)"
      ],
      "execution_count": null,
      "outputs": [
        {
          "output_type": "stream",
          "text": [
            "[[27.773428]]\n"
          ],
          "name": "stdout"
        }
      ]
    },
    {
      "cell_type": "code",
      "metadata": {
        "id": "PHhQGvrI8PSp",
        "outputId": "7d6a8f08-37d2-46a6-e4e0-763dca3774b8",
        "colab": {
          "base_uri": "https://localhost:8080/"
        }
      },
      "source": [
        "#Getting the actual value which is not in the dataset for verification\n",
        "atnt=web.DataReader('T',data_source='yahoo', start='2020-10-29',end='2020-10-29')\n",
        "print(atnt['Close'])"
      ],
      "execution_count": null,
      "outputs": [
        {
          "output_type": "stream",
          "text": [
            "Date\n",
            "2020-10-29    26.76\n",
            "Name: Close, dtype: float64\n"
          ],
          "name": "stdout"
        }
      ]
    },
    {
      "cell_type": "markdown",
      "metadata": {
        "id": "ntVwTbfBV9XO"
      },
      "source": [
        "This shows that the actual price on that day was 26.76 USD and the predicted value is 27.77 USD. The difference in both the values is only a dollar. This depicts that the prediction is very close to the actual value."
      ]
    },
    {
      "cell_type": "markdown",
      "metadata": {
        "id": "U1kLax91D1ya"
      },
      "source": [
        "# **SECTION 6: SUMMARY**"
      ]
    },
    {
      "cell_type": "markdown",
      "metadata": {
        "id": "xEkyRdVKQ-t3"
      },
      "source": [
        "The most difficult part of the execution of this project was applying LSTM model and visualize the prediction plot. I was stuck in this section for longer period of time but later through lot of research and watching Youtube videos I was able to figure out the solution. \n",
        "In this whole project, that was the most interesting part as it was very challenging for me but getting the final output at the end gave me satisfaction and confidence to move further."
      ]
    }
  ]
}